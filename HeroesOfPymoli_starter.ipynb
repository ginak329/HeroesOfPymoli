{
 "cells": [
  {
   "cell_type": "markdown",
   "metadata": {},
   "source": [
    "### Heroes Of Pymoli Data Analysis\n",
    "* Of the 1163 active players, the vast majority are male (84%). There also exists, a smaller, but notable proportion of female players (14%).\n",
    "\n",
    "* Our peak age demographic falls between 20-24 (44.8%) with secondary groups falling between 15-19 (18.60%) and 25-29 (13.4%).  \n",
    "-----"
   ]
  },
  {
   "cell_type": "markdown",
   "metadata": {},
   "source": [
    "### Note\n",
    "* Instructions have been included for each segment. You do not have to follow them exactly, but they are included to help you think through the steps."
   ]
  },
  {
   "cell_type": "code",
   "execution_count": 1,
   "metadata": {},
   "outputs": [
    {
     "data": {
      "text/html": [
       "<div>\n",
       "<style scoped>\n",
       "    .dataframe tbody tr th:only-of-type {\n",
       "        vertical-align: middle;\n",
       "    }\n",
       "\n",
       "    .dataframe tbody tr th {\n",
       "        vertical-align: top;\n",
       "    }\n",
       "\n",
       "    .dataframe thead th {\n",
       "        text-align: right;\n",
       "    }\n",
       "</style>\n",
       "<table border=\"1\" class=\"dataframe\">\n",
       "  <thead>\n",
       "    <tr style=\"text-align: right;\">\n",
       "      <th></th>\n",
       "      <th>Purchase ID</th>\n",
       "      <th>SN</th>\n",
       "      <th>Age</th>\n",
       "      <th>Gender</th>\n",
       "      <th>Item ID</th>\n",
       "      <th>Item Name</th>\n",
       "      <th>Price</th>\n",
       "    </tr>\n",
       "  </thead>\n",
       "  <tbody>\n",
       "    <tr>\n",
       "      <th>0</th>\n",
       "      <td>0</td>\n",
       "      <td>Lisim78</td>\n",
       "      <td>20</td>\n",
       "      <td>Male</td>\n",
       "      <td>108</td>\n",
       "      <td>Extraction, Quickblade Of Trembling Hands</td>\n",
       "      <td>3.53</td>\n",
       "    </tr>\n",
       "    <tr>\n",
       "      <th>1</th>\n",
       "      <td>1</td>\n",
       "      <td>Lisovynya38</td>\n",
       "      <td>40</td>\n",
       "      <td>Male</td>\n",
       "      <td>143</td>\n",
       "      <td>Frenzied Scimitar</td>\n",
       "      <td>1.56</td>\n",
       "    </tr>\n",
       "    <tr>\n",
       "      <th>2</th>\n",
       "      <td>2</td>\n",
       "      <td>Ithergue48</td>\n",
       "      <td>24</td>\n",
       "      <td>Male</td>\n",
       "      <td>92</td>\n",
       "      <td>Final Critic</td>\n",
       "      <td>4.88</td>\n",
       "    </tr>\n",
       "    <tr>\n",
       "      <th>3</th>\n",
       "      <td>3</td>\n",
       "      <td>Chamassasya86</td>\n",
       "      <td>24</td>\n",
       "      <td>Male</td>\n",
       "      <td>100</td>\n",
       "      <td>Blindscythe</td>\n",
       "      <td>3.27</td>\n",
       "    </tr>\n",
       "    <tr>\n",
       "      <th>4</th>\n",
       "      <td>4</td>\n",
       "      <td>Iskosia90</td>\n",
       "      <td>23</td>\n",
       "      <td>Male</td>\n",
       "      <td>131</td>\n",
       "      <td>Fury</td>\n",
       "      <td>1.44</td>\n",
       "    </tr>\n",
       "  </tbody>\n",
       "</table>\n",
       "</div>"
      ],
      "text/plain": [
       "   Purchase ID             SN  Age Gender  Item ID  \\\n",
       "0            0        Lisim78   20   Male      108   \n",
       "1            1    Lisovynya38   40   Male      143   \n",
       "2            2     Ithergue48   24   Male       92   \n",
       "3            3  Chamassasya86   24   Male      100   \n",
       "4            4      Iskosia90   23   Male      131   \n",
       "\n",
       "                                   Item Name  Price  \n",
       "0  Extraction, Quickblade Of Trembling Hands   3.53  \n",
       "1                          Frenzied Scimitar   1.56  \n",
       "2                               Final Critic   4.88  \n",
       "3                                Blindscythe   3.27  \n",
       "4                                       Fury   1.44  "
      ]
     },
     "execution_count": 1,
     "metadata": {},
     "output_type": "execute_result"
    }
   ],
   "source": [
    "# Dependencies and Setup\n",
    "import pandas as pd\n",
    "import numpy as np\n",
    "\n",
    "# File to Load (Remember to Change These)\n",
    "file_to_load = \"Resources/purchase_data.csv\"\n",
    "\n",
    "# Read Purchasing File and store into Pandas data frame\n",
    "datafile = pd.read_csv(file_to_load)\n",
    "datafile.head()"
   ]
  },
  {
   "cell_type": "markdown",
   "metadata": {},
   "source": [
    "## Player Count"
   ]
  },
  {
   "cell_type": "markdown",
   "metadata": {},
   "source": [
    "* Display the total number of players\n"
   ]
  },
  {
   "cell_type": "code",
   "execution_count": 2,
   "metadata": {},
   "outputs": [
    {
     "data": {
      "text/html": [
       "<div>\n",
       "<style scoped>\n",
       "    .dataframe tbody tr th:only-of-type {\n",
       "        vertical-align: middle;\n",
       "    }\n",
       "\n",
       "    .dataframe tbody tr th {\n",
       "        vertical-align: top;\n",
       "    }\n",
       "\n",
       "    .dataframe thead th {\n",
       "        text-align: right;\n",
       "    }\n",
       "</style>\n",
       "<table border=\"1\" class=\"dataframe\">\n",
       "  <thead>\n",
       "    <tr style=\"text-align: right;\">\n",
       "      <th></th>\n",
       "      <th>Total Players</th>\n",
       "    </tr>\n",
       "  </thead>\n",
       "  <tbody>\n",
       "    <tr>\n",
       "      <th>0</th>\n",
       "      <td>576</td>\n",
       "    </tr>\n",
       "  </tbody>\n",
       "</table>\n",
       "</div>"
      ],
      "text/plain": [
       "   Total Players\n",
       "0            576"
      ]
     },
     "execution_count": 2,
     "metadata": {},
     "output_type": "execute_result"
    }
   ],
   "source": [
    "totalplayers=len(datafile['SN'].unique())\n",
    "pd.DataFrame({'Total Players': [totalplayers]})"
   ]
  },
  {
   "cell_type": "markdown",
   "metadata": {},
   "source": [
    "## Purchasing Analysis (Total)"
   ]
  },
  {
   "cell_type": "markdown",
   "metadata": {},
   "source": [
    "* Run basic calculations to obtain number of unique items, average price, etc.\n",
    "\n",
    "\n",
    "* Create a summary data frame to hold the results\n",
    "\n",
    "\n",
    "* Optional: give the displayed data cleaner formatting\n",
    "\n",
    "\n",
    "* Display the summary data frame\n"
   ]
  },
  {
   "cell_type": "code",
   "execution_count": 3,
   "metadata": {
    "scrolled": true
   },
   "outputs": [
    {
     "data": {
      "text/html": [
       "<div>\n",
       "<style scoped>\n",
       "    .dataframe tbody tr th:only-of-type {\n",
       "        vertical-align: middle;\n",
       "    }\n",
       "\n",
       "    .dataframe tbody tr th {\n",
       "        vertical-align: top;\n",
       "    }\n",
       "\n",
       "    .dataframe thead th {\n",
       "        text-align: right;\n",
       "    }\n",
       "</style>\n",
       "<table border=\"1\" class=\"dataframe\">\n",
       "  <thead>\n",
       "    <tr style=\"text-align: right;\">\n",
       "      <th></th>\n",
       "      <th>Number of Unique Items</th>\n",
       "      <th>Average Price</th>\n",
       "      <th>Number of Purchases</th>\n",
       "      <th>Total Revenue</th>\n",
       "    </tr>\n",
       "  </thead>\n",
       "  <tbody>\n",
       "    <tr>\n",
       "      <th>0</th>\n",
       "      <td>183</td>\n",
       "      <td>$3.05</td>\n",
       "      <td>780</td>\n",
       "      <td>$2,379.77</td>\n",
       "    </tr>\n",
       "  </tbody>\n",
       "</table>\n",
       "</div>"
      ],
      "text/plain": [
       "   Number of Unique Items Average Price  Number of Purchases Total Revenue\n",
       "0                     183         $3.05                  780     $2,379.77"
      ]
     },
     "execution_count": 3,
     "metadata": {},
     "output_type": "execute_result"
    }
   ],
   "source": [
    "uniqueitems=len(datafile['Item ID'].unique())\n",
    "avgprice=datafile['Price'].mean()\n",
    "purchasetotal=len(datafile)\n",
    "totalrevenue=datafile['Price'].sum()\n",
    "summarytable=pd.DataFrame({'Number of Unique Items':[uniqueitems],'Average Price':[avgprice],'Number of Purchases':[purchasetotal],'Total Revenue':[totalrevenue]})\n",
    "summarytable['Average Price']= summarytable['Average Price'].map(\"${:.2f}\".format)\n",
    "summarytable['Total Revenue']=summarytable['Total Revenue'].map(\"${:,.2f}\".format)\n",
    "summarytable"
   ]
  },
  {
   "cell_type": "markdown",
   "metadata": {},
   "source": [
    "## Gender Demographics"
   ]
  },
  {
   "cell_type": "markdown",
   "metadata": {},
   "source": [
    "* Percentage and Count of Male Players\n",
    "\n",
    "\n",
    "* Percentage and Count of Female Players\n",
    "\n",
    "\n",
    "* Percentage and Count of Other / Non-Disclosed\n",
    "\n",
    "\n"
   ]
  },
  {
   "cell_type": "code",
   "execution_count": 4,
   "metadata": {},
   "outputs": [
    {
     "data": {
      "text/html": [
       "<div>\n",
       "<style scoped>\n",
       "    .dataframe tbody tr th:only-of-type {\n",
       "        vertical-align: middle;\n",
       "    }\n",
       "\n",
       "    .dataframe tbody tr th {\n",
       "        vertical-align: top;\n",
       "    }\n",
       "\n",
       "    .dataframe thead th {\n",
       "        text-align: right;\n",
       "    }\n",
       "</style>\n",
       "<table border=\"1\" class=\"dataframe\">\n",
       "  <thead>\n",
       "    <tr style=\"text-align: right;\">\n",
       "      <th></th>\n",
       "      <th>Percentage of Players</th>\n",
       "      <th>Total Count</th>\n",
       "    </tr>\n",
       "    <tr>\n",
       "      <th>Gender</th>\n",
       "      <th></th>\n",
       "      <th></th>\n",
       "    </tr>\n",
       "  </thead>\n",
       "  <tbody>\n",
       "    <tr>\n",
       "      <th>Male</th>\n",
       "      <td>84.03%</td>\n",
       "      <td>484</td>\n",
       "    </tr>\n",
       "    <tr>\n",
       "      <th>Female</th>\n",
       "      <td>14.06%</td>\n",
       "      <td>81</td>\n",
       "    </tr>\n",
       "    <tr>\n",
       "      <th>Other / Non-Disclosed</th>\n",
       "      <td>1.91%</td>\n",
       "      <td>11</td>\n",
       "    </tr>\n",
       "  </tbody>\n",
       "</table>\n",
       "</div>"
      ],
      "text/plain": [
       "                      Percentage of Players  Total Count\n",
       "Gender                                                  \n",
       "Male                                 84.03%          484\n",
       "Female                               14.06%           81\n",
       "Other / Non-Disclosed                 1.91%           11"
      ]
     },
     "execution_count": 4,
     "metadata": {},
     "output_type": "execute_result"
    }
   ],
   "source": [
    "gender_groupby = datafile.groupby('Gender')['SN'].nunique().reset_index()\n",
    "gender_groupby['Percentage of Players'] = (gender_groupby['SN']/gender_groupby['SN'].sum())*100\n",
    "gender_summary = gender_groupby[['Gender', 'Percentage of Players','SN' ]].sort_values(['Percentage of Players'],ascending=False)\n",
    "gender_summary.reset_index(drop=True)\n",
    "gender_summary['Percentage of Players']=gender_summary['Percentage of Players'].map(\"{:.2f}%\".format)\n",
    "gender_finalsummary=gender_summary.set_index('Gender')\n",
    "gender_finalsummary = gender_finalsummary.rename(columns = {'SN': 'Total Count'})\n",
    "gender_finalsummary"
   ]
  },
  {
   "cell_type": "markdown",
   "metadata": {},
   "source": [
    "\n",
    "## Purchasing Analysis (Gender)"
   ]
  },
  {
   "cell_type": "markdown",
   "metadata": {},
   "source": [
    "* Run basic calculations to obtain purchase count, avg. purchase price, avg. purchase total per person etc. by gender\n",
    "\n",
    "\n",
    "\n",
    "\n",
    "* Create a summary data frame to hold the results\n",
    "\n",
    "\n",
    "* Optional: give the displayed data cleaner formatting\n",
    "\n",
    "\n",
    "* Display the summary data frame"
   ]
  },
  {
   "cell_type": "code",
   "execution_count": 5,
   "metadata": {},
   "outputs": [
    {
     "data": {
      "text/html": [
       "<div>\n",
       "<style scoped>\n",
       "    .dataframe tbody tr th:only-of-type {\n",
       "        vertical-align: middle;\n",
       "    }\n",
       "\n",
       "    .dataframe tbody tr th {\n",
       "        vertical-align: top;\n",
       "    }\n",
       "\n",
       "    .dataframe thead th {\n",
       "        text-align: right;\n",
       "    }\n",
       "</style>\n",
       "<table border=\"1\" class=\"dataframe\">\n",
       "  <thead>\n",
       "    <tr style=\"text-align: right;\">\n",
       "      <th></th>\n",
       "      <th>Purchase Count</th>\n",
       "      <th>Average Purchase Total per Person</th>\n",
       "      <th>Total Purchase Value</th>\n",
       "      <th>Average Purchase Price</th>\n",
       "    </tr>\n",
       "    <tr>\n",
       "      <th>Gender</th>\n",
       "      <th></th>\n",
       "      <th></th>\n",
       "      <th></th>\n",
       "      <th></th>\n",
       "    </tr>\n",
       "  </thead>\n",
       "  <tbody>\n",
       "    <tr>\n",
       "      <th>Female</th>\n",
       "      <td>113</td>\n",
       "      <td>$4.47</td>\n",
       "      <td>$361.94</td>\n",
       "      <td>$3.20</td>\n",
       "    </tr>\n",
       "    <tr>\n",
       "      <th>Male</th>\n",
       "      <td>652</td>\n",
       "      <td>$4.07</td>\n",
       "      <td>$1967.64</td>\n",
       "      <td>$3.02</td>\n",
       "    </tr>\n",
       "    <tr>\n",
       "      <th>Other / Non-Disclosed</th>\n",
       "      <td>15</td>\n",
       "      <td>$4.56</td>\n",
       "      <td>$50.19</td>\n",
       "      <td>$3.35</td>\n",
       "    </tr>\n",
       "  </tbody>\n",
       "</table>\n",
       "</div>"
      ],
      "text/plain": [
       "                       Purchase Count Average Purchase Total per Person  \\\n",
       "Gender                                                                    \n",
       "Female                            113                             $4.47   \n",
       "Male                              652                             $4.07   \n",
       "Other / Non-Disclosed              15                             $4.56   \n",
       "\n",
       "                      Total Purchase Value Average Purchase Price  \n",
       "Gender                                                             \n",
       "Female                             $361.94                  $3.20  \n",
       "Male                              $1967.64                  $3.02  \n",
       "Other / Non-Disclosed               $50.19                  $3.35  "
      ]
     },
     "execution_count": 5,
     "metadata": {},
     "output_type": "execute_result"
    }
   ],
   "source": [
    "gender_purchase_value = datafile.groupby(['Gender']).sum()['Price'].rename('Total Purchase Value')\n",
    "gender_avgprice=datafile.groupby(['Gender']).mean()['Price'].rename('Average Purchase Price')\n",
    "gender_purchase_count=datafile.groupby(['Gender']).count()['Price'].rename('Purchase Count')\n",
    "gender_avg_total = gender_purchase_value / gender_finalsummary['Total Count']\n",
    "\n",
    "gender_datasummary = pd.DataFrame({'Purchase Count': gender_purchase_count,'Average Purchase Total per Person': gender_avg_total, \n",
    "                            'Total Purchase Value': gender_purchase_value, \n",
    "                            'Average Purchase Price': gender_avgprice})\n",
    "gender_datasummary['Average Purchase Total per Person']=gender_datasummary['Average Purchase Total per Person'].map(\"${:.2f}\".format)\n",
    "gender_datasummary['Total Purchase Value']=gender_datasummary['Total Purchase Value'].map(\"${:.2f}\".format)\n",
    "gender_datasummary['Average Purchase Price']=gender_datasummary['Average Purchase Price'].map(\"${:.2f}\".format)\n",
    "gender_datasummary"
   ]
  },
  {
   "cell_type": "markdown",
   "metadata": {},
   "source": [
    "## Age Demographics"
   ]
  },
  {
   "cell_type": "markdown",
   "metadata": {},
   "source": [
    "* Establish bins for ages\n",
    "\n",
    "\n",
    "* Categorize the existing players using the age bins. Hint: use pd.cut()\n",
    "\n",
    "\n",
    "* Calculate the numbers and percentages by age group\n",
    "\n",
    "\n",
    "* Create a summary data frame to hold the results\n",
    "\n",
    "\n",
    "* Optional: round the percentage column to two decimal points\n",
    "\n",
    "\n",
    "* Display Age Demographics Table\n"
   ]
  },
  {
   "cell_type": "code",
   "execution_count": 6,
   "metadata": {},
   "outputs": [
    {
     "data": {
      "text/html": [
       "<div>\n",
       "<style scoped>\n",
       "    .dataframe tbody tr th:only-of-type {\n",
       "        vertical-align: middle;\n",
       "    }\n",
       "\n",
       "    .dataframe tbody tr th {\n",
       "        vertical-align: top;\n",
       "    }\n",
       "\n",
       "    .dataframe thead th {\n",
       "        text-align: right;\n",
       "    }\n",
       "</style>\n",
       "<table border=\"1\" class=\"dataframe\">\n",
       "  <thead>\n",
       "    <tr style=\"text-align: right;\">\n",
       "      <th></th>\n",
       "      <th>Total Count</th>\n",
       "      <th>Percentage of Players</th>\n",
       "    </tr>\n",
       "  </thead>\n",
       "  <tbody>\n",
       "    <tr>\n",
       "      <th>&lt;10</th>\n",
       "      <td>17</td>\n",
       "      <td>2.95</td>\n",
       "    </tr>\n",
       "    <tr>\n",
       "      <th>10-14</th>\n",
       "      <td>22</td>\n",
       "      <td>3.82</td>\n",
       "    </tr>\n",
       "    <tr>\n",
       "      <th>15-19</th>\n",
       "      <td>107</td>\n",
       "      <td>18.58</td>\n",
       "    </tr>\n",
       "    <tr>\n",
       "      <th>20-24</th>\n",
       "      <td>258</td>\n",
       "      <td>44.79</td>\n",
       "    </tr>\n",
       "    <tr>\n",
       "      <th>25-29</th>\n",
       "      <td>77</td>\n",
       "      <td>13.37</td>\n",
       "    </tr>\n",
       "    <tr>\n",
       "      <th>30-34</th>\n",
       "      <td>52</td>\n",
       "      <td>9.03</td>\n",
       "    </tr>\n",
       "    <tr>\n",
       "      <th>35-39</th>\n",
       "      <td>31</td>\n",
       "      <td>5.38</td>\n",
       "    </tr>\n",
       "    <tr>\n",
       "      <th>40+</th>\n",
       "      <td>12</td>\n",
       "      <td>2.08</td>\n",
       "    </tr>\n",
       "  </tbody>\n",
       "</table>\n",
       "</div>"
      ],
      "text/plain": [
       "       Total Count  Percentage of Players\n",
       "<10             17                   2.95\n",
       "10-14           22                   3.82\n",
       "15-19          107                  18.58\n",
       "20-24          258                  44.79\n",
       "25-29           77                  13.37\n",
       "30-34           52                   9.03\n",
       "35-39           31                   5.38\n",
       "40+             12                   2.08"
      ]
     },
     "execution_count": 6,
     "metadata": {},
     "output_type": "execute_result"
    }
   ],
   "source": [
    "bins=[0, 9.90, 14.90, 19.90, 24.9, 29.9, 34.90, 39.90, 9999999]\n",
    "group_names = [\"<10\", \"10-14\", \"15-19\", \"20-24\", \"25-29\",\"30-34\",\"35-39\",\"40+\"]\n",
    "uniqueheroes=datafile.loc[:,['SN','Age']]\n",
    "uniqueheroes= uniqueheroes.drop_duplicates()\n",
    "uniqueheroes['Age Ranges']=pd.cut(datafile['Age'],bins,labels=group_names)\n",
    "uniqueheroes.head()\n",
    "age_demographics_total = uniqueheroes[\"Age Ranges\"].value_counts()\n",
    "age_demographics_percents=(age_demographics_total / totalplayers * 100).round(2)\n",
    "age_demographics_summary=pd.DataFrame({\"Total Count\":age_demographics_total,\"Percentage of Players\":age_demographics_percents})\n",
    "age_demographics_summary.sort_index()"
   ]
  },
  {
   "cell_type": "markdown",
   "metadata": {},
   "source": [
    "## Purchasing Analysis (Age)"
   ]
  },
  {
   "cell_type": "markdown",
   "metadata": {},
   "source": [
    "* Bin the purchase_data data frame by age\n",
    "\n",
    "\n",
    "* Run basic calculations to obtain purchase count, avg. purchase price, avg. purchase total per person etc. in the table below\n",
    "\n",
    "\n",
    "* Create a summary data frame to hold the results\n",
    "\n",
    "\n",
    "* Optional: give the displayed data cleaner formatting\n",
    "\n",
    "\n",
    "* Display the summary data frame"
   ]
  },
  {
   "cell_type": "code",
   "execution_count": 7,
   "metadata": {},
   "outputs": [
    {
     "data": {
      "text/html": [
       "<div>\n",
       "<style scoped>\n",
       "    .dataframe tbody tr th:only-of-type {\n",
       "        vertical-align: middle;\n",
       "    }\n",
       "\n",
       "    .dataframe tbody tr th {\n",
       "        vertical-align: top;\n",
       "    }\n",
       "\n",
       "    .dataframe thead th {\n",
       "        text-align: right;\n",
       "    }\n",
       "</style>\n",
       "<table border=\"1\" class=\"dataframe\">\n",
       "  <thead>\n",
       "    <tr style=\"text-align: right;\">\n",
       "      <th></th>\n",
       "      <th>Purchase Count</th>\n",
       "      <th>Average Purchase Price</th>\n",
       "      <th>Total Purchase Value</th>\n",
       "      <th>Avg Total Purchase Per Person</th>\n",
       "    </tr>\n",
       "  </thead>\n",
       "  <tbody>\n",
       "    <tr>\n",
       "      <th>10-14</th>\n",
       "      <td>28</td>\n",
       "      <td>$2.96</td>\n",
       "      <td>$82.78</td>\n",
       "      <td>$3.76</td>\n",
       "    </tr>\n",
       "    <tr>\n",
       "      <th>15-19</th>\n",
       "      <td>136</td>\n",
       "      <td>$3.04</td>\n",
       "      <td>$412.89</td>\n",
       "      <td>$3.86</td>\n",
       "    </tr>\n",
       "    <tr>\n",
       "      <th>20-24</th>\n",
       "      <td>365</td>\n",
       "      <td>$3.05</td>\n",
       "      <td>$1114.06</td>\n",
       "      <td>$4.32</td>\n",
       "    </tr>\n",
       "    <tr>\n",
       "      <th>25-29</th>\n",
       "      <td>101</td>\n",
       "      <td>$2.90</td>\n",
       "      <td>$293.00</td>\n",
       "      <td>$3.81</td>\n",
       "    </tr>\n",
       "    <tr>\n",
       "      <th>30-34</th>\n",
       "      <td>73</td>\n",
       "      <td>$2.93</td>\n",
       "      <td>$214.00</td>\n",
       "      <td>$4.12</td>\n",
       "    </tr>\n",
       "    <tr>\n",
       "      <th>35-39</th>\n",
       "      <td>41</td>\n",
       "      <td>$3.60</td>\n",
       "      <td>$147.67</td>\n",
       "      <td>$4.76</td>\n",
       "    </tr>\n",
       "    <tr>\n",
       "      <th>40+</th>\n",
       "      <td>13</td>\n",
       "      <td>$2.94</td>\n",
       "      <td>$38.24</td>\n",
       "      <td>$3.19</td>\n",
       "    </tr>\n",
       "    <tr>\n",
       "      <th>&lt;10</th>\n",
       "      <td>23</td>\n",
       "      <td>$3.35</td>\n",
       "      <td>$77.13</td>\n",
       "      <td>$4.54</td>\n",
       "    </tr>\n",
       "  </tbody>\n",
       "</table>\n",
       "</div>"
      ],
      "text/plain": [
       "       Purchase Count Average Purchase Price Total Purchase Value  \\\n",
       "10-14              28                  $2.96               $82.78   \n",
       "15-19             136                  $3.04              $412.89   \n",
       "20-24             365                  $3.05             $1114.06   \n",
       "25-29             101                  $2.90              $293.00   \n",
       "30-34              73                  $2.93              $214.00   \n",
       "35-39              41                  $3.60              $147.67   \n",
       "40+                13                  $2.94               $38.24   \n",
       "<10                23                  $3.35               $77.13   \n",
       "\n",
       "      Avg Total Purchase Per Person  \n",
       "10-14                         $3.76  \n",
       "15-19                         $3.86  \n",
       "20-24                         $4.32  \n",
       "25-29                         $3.81  \n",
       "30-34                         $4.12  \n",
       "35-39                         $4.76  \n",
       "40+                           $3.19  \n",
       "<10                           $4.54  "
      ]
     },
     "execution_count": 7,
     "metadata": {},
     "output_type": "execute_result"
    }
   ],
   "source": [
    "datafile['Age Ranges']=pd.cut(datafile['Age'],bins,labels=group_names)\n",
    "datafile.head()\n",
    "total_purchase_count=datafile['Age Ranges'].value_counts().rename('Purchase Count')\n",
    "total_avgpurchase_price=datafile.groupby(['Age Ranges']).mean()['Price'].rename('Average Purchase Price')\n",
    "total_purchase_value=datafile.groupby(['Age Ranges']).sum()['Price'].rename('Total Purchase Value')\n",
    "totalpurchase_per_person=(total_purchase_value/age_demographics_total).rename('Avg Total Purchase Per Person')\n",
    "purchasing_analysis_summary=pd.DataFrame({'Purchase Count':total_purchase_count,'Average Purchase Price':total_avgpurchase_price,'Total Purchase Value':total_purchase_value,'Avg Total Purchase Per Person':totalpurchase_per_person})\n",
    "purchasing_analysis_summary['Average Purchase Price']=purchasing_analysis_summary['Average Purchase Price'].map(\"${:.2f}\".format)\n",
    "purchasing_analysis_summary['Total Purchase Value']=purchasing_analysis_summary['Total Purchase Value'].map(\"${:.2f}\".format)\n",
    "purchasing_analysis_summary['Avg Total Purchase Per Person']=purchasing_analysis_summary['Avg Total Purchase Per Person'].map(\"${:.2f}\".format)\n",
    "purchasing_analysis_summary.sort_index()"
   ]
  },
  {
   "cell_type": "markdown",
   "metadata": {},
   "source": [
    "## Top Spenders"
   ]
  },
  {
   "cell_type": "markdown",
   "metadata": {},
   "source": [
    "* Run basic calculations to obtain the results in the table below\n",
    "\n",
    "\n",
    "* Create a summary data frame to hold the results\n",
    "\n",
    "\n",
    "* Sort the total purchase value column in descending order\n",
    "\n",
    "\n",
    "* Optional: give the displayed data cleaner formatting\n",
    "\n",
    "\n",
    "* Display a preview of the summary data frame\n",
    "\n"
   ]
  },
  {
   "cell_type": "code",
   "execution_count": 8,
   "metadata": {},
   "outputs": [
    {
     "data": {
      "text/html": [
       "<style  type=\"text/css\" >\n",
       "</style>  \n",
       "<table id=\"T_d5ed7318_babd_11e8_84d3_f218982ce207\" > \n",
       "<thead>    <tr> \n",
       "        <th class=\"blank level0\" ></th> \n",
       "        <th class=\"col_heading level0 col0\" >Purchase Count</th> \n",
       "        <th class=\"col_heading level0 col1\" >Average Purchase Price</th> \n",
       "        <th class=\"col_heading level0 col2\" >Total Purchase Value</th> \n",
       "    </tr>    <tr> \n",
       "        <th class=\"index_name level0\" >SN</th> \n",
       "        <th class=\"blank\" ></th> \n",
       "        <th class=\"blank\" ></th> \n",
       "        <th class=\"blank\" ></th> \n",
       "    </tr></thead> \n",
       "<tbody>    <tr> \n",
       "        <th id=\"T_d5ed7318_babd_11e8_84d3_f218982ce207level0_row0\" class=\"row_heading level0 row0\" >Lisosia93</th> \n",
       "        <td id=\"T_d5ed7318_babd_11e8_84d3_f218982ce207row0_col0\" class=\"data row0 col0\" >5</td> \n",
       "        <td id=\"T_d5ed7318_babd_11e8_84d3_f218982ce207row0_col1\" class=\"data row0 col1\" >$3.79</td> \n",
       "        <td id=\"T_d5ed7318_babd_11e8_84d3_f218982ce207row0_col2\" class=\"data row0 col2\" >$18.96</td> \n",
       "    </tr>    <tr> \n",
       "        <th id=\"T_d5ed7318_babd_11e8_84d3_f218982ce207level0_row1\" class=\"row_heading level0 row1\" >Idastidru52</th> \n",
       "        <td id=\"T_d5ed7318_babd_11e8_84d3_f218982ce207row1_col0\" class=\"data row1 col0\" >4</td> \n",
       "        <td id=\"T_d5ed7318_babd_11e8_84d3_f218982ce207row1_col1\" class=\"data row1 col1\" >$3.86</td> \n",
       "        <td id=\"T_d5ed7318_babd_11e8_84d3_f218982ce207row1_col2\" class=\"data row1 col2\" >$15.45</td> \n",
       "    </tr>    <tr> \n",
       "        <th id=\"T_d5ed7318_babd_11e8_84d3_f218982ce207level0_row2\" class=\"row_heading level0 row2\" >Chamjask73</th> \n",
       "        <td id=\"T_d5ed7318_babd_11e8_84d3_f218982ce207row2_col0\" class=\"data row2 col0\" >3</td> \n",
       "        <td id=\"T_d5ed7318_babd_11e8_84d3_f218982ce207row2_col1\" class=\"data row2 col1\" >$4.61</td> \n",
       "        <td id=\"T_d5ed7318_babd_11e8_84d3_f218982ce207row2_col2\" class=\"data row2 col2\" >$13.83</td> \n",
       "    </tr>    <tr> \n",
       "        <th id=\"T_d5ed7318_babd_11e8_84d3_f218982ce207level0_row3\" class=\"row_heading level0 row3\" >Iral74</th> \n",
       "        <td id=\"T_d5ed7318_babd_11e8_84d3_f218982ce207row3_col0\" class=\"data row3 col0\" >4</td> \n",
       "        <td id=\"T_d5ed7318_babd_11e8_84d3_f218982ce207row3_col1\" class=\"data row3 col1\" >$3.40</td> \n",
       "        <td id=\"T_d5ed7318_babd_11e8_84d3_f218982ce207row3_col2\" class=\"data row3 col2\" >$13.62</td> \n",
       "    </tr>    <tr> \n",
       "        <th id=\"T_d5ed7318_babd_11e8_84d3_f218982ce207level0_row4\" class=\"row_heading level0 row4\" >Iskadarya95</th> \n",
       "        <td id=\"T_d5ed7318_babd_11e8_84d3_f218982ce207row4_col0\" class=\"data row4 col0\" >3</td> \n",
       "        <td id=\"T_d5ed7318_babd_11e8_84d3_f218982ce207row4_col1\" class=\"data row4 col1\" >$4.37</td> \n",
       "        <td id=\"T_d5ed7318_babd_11e8_84d3_f218982ce207row4_col2\" class=\"data row4 col2\" >$13.10</td> \n",
       "    </tr></tbody> \n",
       "</table> "
      ],
      "text/plain": [
       "<pandas.io.formats.style.Styler at 0x1113bd160>"
      ]
     },
     "execution_count": 8,
     "metadata": {},
     "output_type": "execute_result"
    }
   ],
   "source": [
    "spenders=datafile.groupby('SN')\n",
    "spenders_PC = spenders[\"Purchase ID\"].count()\n",
    "spenders_avg_purchaseprice = spenders[\"Price\"].mean()\n",
    "spenders_PT= spenders[\"Price\"].sum()\n",
    "topspenders = pd.DataFrame({\"Purchase Count\": spenders_PC,\n",
    "                             \"Average Purchase Price\": spenders_avg_purchaseprice,\n",
    "                             \"Total Purchase Value\":spenders_PT})\n",
    "formatted_spenders = topspenders.sort_values([\"Total Purchase Value\"], ascending=False).head()\n",
    "formatted_spenders.style.format({\"Average Purchase Total\":\"${:,.2f}\",\n",
    "                                 \"Average Purchase Price\":\"${:,.2f}\", \n",
    "                                 \"Total Purchase Value\":\"${:,.2f}\"})"
   ]
  },
  {
   "cell_type": "markdown",
   "metadata": {},
   "source": [
    "## Most Popular Items"
   ]
  },
  {
   "cell_type": "markdown",
   "metadata": {},
   "source": [
    "* Retrieve the Item ID, Item Name, and Item Price columns\n",
    "\n",
    "\n",
    "* Group by Item ID and Item Name. Perform calculations to obtain purchase count, item price, and total purchase value\n",
    "\n",
    "\n",
    "* Create a summary data frame to hold the results\n",
    "\n",
    "\n",
    "* Sort the purchase count column in descending order\n",
    "\n",
    "\n",
    "* Optional: give the displayed data cleaner formatting\n",
    "\n",
    "\n",
    "* Display a preview of the summary data frame\n",
    "\n"
   ]
  },
  {
   "cell_type": "code",
   "execution_count": 9,
   "metadata": {},
   "outputs": [
    {
     "data": {
      "text/html": [
       "<style  type=\"text/css\" >\n",
       "</style>  \n",
       "<table id=\"T_e377f3c6_babd_11e8_a25a_f218982ce207\" > \n",
       "<thead>    <tr> \n",
       "        <th class=\"blank\" ></th> \n",
       "        <th class=\"blank level0\" ></th> \n",
       "        <th class=\"col_heading level0 col0\" >Purchase Count</th> \n",
       "        <th class=\"col_heading level0 col1\" >Item Price</th> \n",
       "        <th class=\"col_heading level0 col2\" >Total Purchase Value</th> \n",
       "    </tr>    <tr> \n",
       "        <th class=\"index_name level0\" >Item ID</th> \n",
       "        <th class=\"index_name level1\" >Item Name</th> \n",
       "        <th class=\"blank\" ></th> \n",
       "        <th class=\"blank\" ></th> \n",
       "        <th class=\"blank\" ></th> \n",
       "    </tr></thead> \n",
       "<tbody>    <tr> \n",
       "        <th id=\"T_e377f3c6_babd_11e8_a25a_f218982ce207level0_row0\" class=\"row_heading level0 row0\" >178</th> \n",
       "        <th id=\"T_e377f3c6_babd_11e8_a25a_f218982ce207level1_row0\" class=\"row_heading level1 row0\" >Oathbreaker, Last Hope of the Breaking Storm</th> \n",
       "        <td id=\"T_e377f3c6_babd_11e8_a25a_f218982ce207row0_col0\" class=\"data row0 col0\" >12</td> \n",
       "        <td id=\"T_e377f3c6_babd_11e8_a25a_f218982ce207row0_col1\" class=\"data row0 col1\" >$4.23</td> \n",
       "        <td id=\"T_e377f3c6_babd_11e8_a25a_f218982ce207row0_col2\" class=\"data row0 col2\" >$50.76</td> \n",
       "    </tr>    <tr> \n",
       "        <th id=\"T_e377f3c6_babd_11e8_a25a_f218982ce207level0_row1\" class=\"row_heading level0 row1\" >145</th> \n",
       "        <th id=\"T_e377f3c6_babd_11e8_a25a_f218982ce207level1_row1\" class=\"row_heading level1 row1\" >Fiery Glass Crusader</th> \n",
       "        <td id=\"T_e377f3c6_babd_11e8_a25a_f218982ce207row1_col0\" class=\"data row1 col0\" >9</td> \n",
       "        <td id=\"T_e377f3c6_babd_11e8_a25a_f218982ce207row1_col1\" class=\"data row1 col1\" >$4.58</td> \n",
       "        <td id=\"T_e377f3c6_babd_11e8_a25a_f218982ce207row1_col2\" class=\"data row1 col2\" >$41.22</td> \n",
       "    </tr>    <tr> \n",
       "        <th id=\"T_e377f3c6_babd_11e8_a25a_f218982ce207level0_row2\" class=\"row_heading level0 row2\" >108</th> \n",
       "        <th id=\"T_e377f3c6_babd_11e8_a25a_f218982ce207level1_row2\" class=\"row_heading level1 row2\" >Extraction, Quickblade Of Trembling Hands</th> \n",
       "        <td id=\"T_e377f3c6_babd_11e8_a25a_f218982ce207row2_col0\" class=\"data row2 col0\" >9</td> \n",
       "        <td id=\"T_e377f3c6_babd_11e8_a25a_f218982ce207row2_col1\" class=\"data row2 col1\" >$3.53</td> \n",
       "        <td id=\"T_e377f3c6_babd_11e8_a25a_f218982ce207row2_col2\" class=\"data row2 col2\" >$31.77</td> \n",
       "    </tr>    <tr> \n",
       "        <th id=\"T_e377f3c6_babd_11e8_a25a_f218982ce207level0_row3\" class=\"row_heading level0 row3\" >82</th> \n",
       "        <th id=\"T_e377f3c6_babd_11e8_a25a_f218982ce207level1_row3\" class=\"row_heading level1 row3\" >Nirvana</th> \n",
       "        <td id=\"T_e377f3c6_babd_11e8_a25a_f218982ce207row3_col0\" class=\"data row3 col0\" >9</td> \n",
       "        <td id=\"T_e377f3c6_babd_11e8_a25a_f218982ce207row3_col1\" class=\"data row3 col1\" >$4.90</td> \n",
       "        <td id=\"T_e377f3c6_babd_11e8_a25a_f218982ce207row3_col2\" class=\"data row3 col2\" >$44.10</td> \n",
       "    </tr>    <tr> \n",
       "        <th id=\"T_e377f3c6_babd_11e8_a25a_f218982ce207level0_row4\" class=\"row_heading level0 row4\" >19</th> \n",
       "        <th id=\"T_e377f3c6_babd_11e8_a25a_f218982ce207level1_row4\" class=\"row_heading level1 row4\" >Pursuit, Cudgel of Necromancy</th> \n",
       "        <td id=\"T_e377f3c6_babd_11e8_a25a_f218982ce207row4_col0\" class=\"data row4 col0\" >8</td> \n",
       "        <td id=\"T_e377f3c6_babd_11e8_a25a_f218982ce207row4_col1\" class=\"data row4 col1\" >$1.02</td> \n",
       "        <td id=\"T_e377f3c6_babd_11e8_a25a_f218982ce207row4_col2\" class=\"data row4 col2\" >$8.16</td> \n",
       "    </tr></tbody> \n",
       "</table> "
      ],
      "text/plain": [
       "<pandas.io.formats.style.Styler at 0x110bb1828>"
      ]
     },
     "execution_count": 9,
     "metadata": {},
     "output_type": "execute_result"
    }
   ],
   "source": [
    "items = datafile[['Item ID', 'Item Name', 'Price']]\n",
    "item_stats=items.groupby(['Item ID','Item Name'])\n",
    "items_PC=item_stats['Item ID'].count()\n",
    "items_total_PV=(item_stats['Price'].sum())\n",
    "item_price=items_total_PV/items_PC\n",
    "popular_items_analysis=pd.DataFrame({'Purchase Count':items_PC,'Item Price':item_price,'Total Purchase Value':items_total_PV})\n",
    "formatted_popular_items_analysis=popular_items_analysis.sort_values([\"Purchase Count\"], ascending=False).head()\n",
    "formatted_popular_items_analysis.style.format({'Item Price':\"${:,.2f}\",'Total Purchase Value':\"${:,.2f}\"})"
   ]
  },
  {
   "cell_type": "markdown",
   "metadata": {},
   "source": [
    "## Most Profitable Items"
   ]
  },
  {
   "cell_type": "markdown",
   "metadata": {},
   "source": [
    "* Sort the above table by total purchase value in descending order\n",
    "\n",
    "\n",
    "* Optional: give the displayed data cleaner formatting\n",
    "\n",
    "\n",
    "* Display a preview of the data frame\n",
    "\n"
   ]
  },
  {
   "cell_type": "code",
   "execution_count": 10,
   "metadata": {
    "scrolled": true
   },
   "outputs": [
    {
     "data": {
      "text/html": [
       "<style  type=\"text/css\" >\n",
       "</style>  \n",
       "<table id=\"T_f464be12_babd_11e8_b06c_f218982ce207\" > \n",
       "<thead>    <tr> \n",
       "        <th class=\"blank\" ></th> \n",
       "        <th class=\"blank level0\" ></th> \n",
       "        <th class=\"col_heading level0 col0\" >Purchase Count</th> \n",
       "        <th class=\"col_heading level0 col1\" >Item Price</th> \n",
       "        <th class=\"col_heading level0 col2\" >Total Purchase Value</th> \n",
       "    </tr>    <tr> \n",
       "        <th class=\"index_name level0\" >Item ID</th> \n",
       "        <th class=\"index_name level1\" >Item Name</th> \n",
       "        <th class=\"blank\" ></th> \n",
       "        <th class=\"blank\" ></th> \n",
       "        <th class=\"blank\" ></th> \n",
       "    </tr></thead> \n",
       "<tbody>    <tr> \n",
       "        <th id=\"T_f464be12_babd_11e8_b06c_f218982ce207level0_row0\" class=\"row_heading level0 row0\" >178</th> \n",
       "        <th id=\"T_f464be12_babd_11e8_b06c_f218982ce207level1_row0\" class=\"row_heading level1 row0\" >Oathbreaker, Last Hope of the Breaking Storm</th> \n",
       "        <td id=\"T_f464be12_babd_11e8_b06c_f218982ce207row0_col0\" class=\"data row0 col0\" >12</td> \n",
       "        <td id=\"T_f464be12_babd_11e8_b06c_f218982ce207row0_col1\" class=\"data row0 col1\" >$4.23</td> \n",
       "        <td id=\"T_f464be12_babd_11e8_b06c_f218982ce207row0_col2\" class=\"data row0 col2\" >$50.76</td> \n",
       "    </tr>    <tr> \n",
       "        <th id=\"T_f464be12_babd_11e8_b06c_f218982ce207level0_row1\" class=\"row_heading level0 row1\" >82</th> \n",
       "        <th id=\"T_f464be12_babd_11e8_b06c_f218982ce207level1_row1\" class=\"row_heading level1 row1\" >Nirvana</th> \n",
       "        <td id=\"T_f464be12_babd_11e8_b06c_f218982ce207row1_col0\" class=\"data row1 col0\" >9</td> \n",
       "        <td id=\"T_f464be12_babd_11e8_b06c_f218982ce207row1_col1\" class=\"data row1 col1\" >$4.90</td> \n",
       "        <td id=\"T_f464be12_babd_11e8_b06c_f218982ce207row1_col2\" class=\"data row1 col2\" >$44.10</td> \n",
       "    </tr>    <tr> \n",
       "        <th id=\"T_f464be12_babd_11e8_b06c_f218982ce207level0_row2\" class=\"row_heading level0 row2\" >145</th> \n",
       "        <th id=\"T_f464be12_babd_11e8_b06c_f218982ce207level1_row2\" class=\"row_heading level1 row2\" >Fiery Glass Crusader</th> \n",
       "        <td id=\"T_f464be12_babd_11e8_b06c_f218982ce207row2_col0\" class=\"data row2 col0\" >9</td> \n",
       "        <td id=\"T_f464be12_babd_11e8_b06c_f218982ce207row2_col1\" class=\"data row2 col1\" >$4.58</td> \n",
       "        <td id=\"T_f464be12_babd_11e8_b06c_f218982ce207row2_col2\" class=\"data row2 col2\" >$41.22</td> \n",
       "    </tr>    <tr> \n",
       "        <th id=\"T_f464be12_babd_11e8_b06c_f218982ce207level0_row3\" class=\"row_heading level0 row3\" >92</th> \n",
       "        <th id=\"T_f464be12_babd_11e8_b06c_f218982ce207level1_row3\" class=\"row_heading level1 row3\" >Final Critic</th> \n",
       "        <td id=\"T_f464be12_babd_11e8_b06c_f218982ce207row3_col0\" class=\"data row3 col0\" >8</td> \n",
       "        <td id=\"T_f464be12_babd_11e8_b06c_f218982ce207row3_col1\" class=\"data row3 col1\" >$4.88</td> \n",
       "        <td id=\"T_f464be12_babd_11e8_b06c_f218982ce207row3_col2\" class=\"data row3 col2\" >$39.04</td> \n",
       "    </tr>    <tr> \n",
       "        <th id=\"T_f464be12_babd_11e8_b06c_f218982ce207level0_row4\" class=\"row_heading level0 row4\" >103</th> \n",
       "        <th id=\"T_f464be12_babd_11e8_b06c_f218982ce207level1_row4\" class=\"row_heading level1 row4\" >Singed Scalpel</th> \n",
       "        <td id=\"T_f464be12_babd_11e8_b06c_f218982ce207row4_col0\" class=\"data row4 col0\" >8</td> \n",
       "        <td id=\"T_f464be12_babd_11e8_b06c_f218982ce207row4_col1\" class=\"data row4 col1\" >$4.35</td> \n",
       "        <td id=\"T_f464be12_babd_11e8_b06c_f218982ce207row4_col2\" class=\"data row4 col2\" >$34.80</td> \n",
       "    </tr></tbody> \n",
       "</table> "
      ],
      "text/plain": [
       "<pandas.io.formats.style.Styler at 0x11a301a20>"
      ]
     },
     "execution_count": 10,
     "metadata": {},
     "output_type": "execute_result"
    }
   ],
   "source": [
    "formatted_popular_items_analysis=popular_items_analysis.sort_values([\"Total Purchase Value\"], ascending=False).head()\n",
    "formatted_popular_items_analysis.style.format({'Item Price':\"${:,.2f}\",'Total Purchase Value':\"${:,.2f}\"})"
   ]
  },
  {
   "cell_type": "code",
   "execution_count": null,
   "metadata": {},
   "outputs": [],
   "source": []
  }
 ],
 "metadata": {
  "anaconda-cloud": {},
  "kernel_info": {
   "name": "python3"
  },
  "kernelspec": {
   "display_name": "Python 3",
   "language": "python",
   "name": "python3"
  },
  "language_info": {
   "codemirror_mode": {
    "name": "ipython",
    "version": 3
   },
   "file_extension": ".py",
   "mimetype": "text/x-python",
   "name": "python",
   "nbconvert_exporter": "python",
   "pygments_lexer": "ipython3",
   "version": "3.6.5"
  },
  "nteract": {
   "version": "0.2.0"
  }
 },
 "nbformat": 4,
 "nbformat_minor": 2
}
